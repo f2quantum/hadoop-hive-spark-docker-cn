{
 "cells": [
  {
   "cell_type": "code",
   "execution_count": 1,
   "id": "605b3b4e-e526-4bfc-8f41-3118ee1d348d",
   "metadata": {},
   "outputs": [
    {
     "name": "stderr",
     "output_type": "stream",
     "text": [
      "Setting default log level to \"WARN\".\n",
      "To adjust logging level use sc.setLogLevel(newLevel). For SparkR, use setLogLevel(newLevel).\n"
     ]
    },
    {
     "name": "stdout",
     "output_type": "stream",
     "text": [
      "24/03/07 09:03:43 WARN Utils: Service 'SparkUI' could not bind on port 4040. Attempting port 4041.\n",
      "Spark版本: 3.3.3\n"
     ]
    }
   ],
   "source": [
    "import findspark\n",
    "findspark.init('/opt/spark')\n",
    "from pyspark.sql import SparkSession\n",
    "\n",
    "spark = SparkSession.builder \\\n",
    "    .appName(\"BDH-DATA-JOB\") \\\n",
    "    .enableHiveSupport() \\\n",
    "    .getOrCreate()\n",
    "\n",
    "print(\"Spark版本:\", spark.version)"
   ]
  },
  {
   "cell_type": "code",
   "execution_count": 2,
   "id": "5e801935-ab77-4a63-a0bb-84b1ba8a3518",
   "metadata": {},
   "outputs": [
    {
     "name": "stdout",
     "output_type": "stream",
     "text": [
      "Defaulting to user installation because normal site-packages is not writeable\n",
      "Requirement already satisfied: geopandas in /usr/local/lib/python3.8/dist-packages (0.13.2)\n",
      "Requirement already satisfied: shapely in /usr/local/lib/python3.8/dist-packages (2.0.3)\n",
      "Requirement already satisfied: fiona>=1.8.19 in /usr/local/lib/python3.8/dist-packages (from geopandas) (1.9.5)\n",
      "Requirement already satisfied: packaging in /usr/local/lib/python3.8/dist-packages (from geopandas) (23.1)\n",
      "Requirement already satisfied: pandas>=1.1.0 in /usr/local/lib/python3.8/dist-packages (from geopandas) (2.0.3)\n",
      "Requirement already satisfied: pyproj>=3.0.1 in /usr/local/lib/python3.8/dist-packages (from geopandas) (3.5.0)\n",
      "Requirement already satisfied: numpy<2,>=1.14 in /usr/local/lib/python3.8/dist-packages (from shapely) (1.24.3)\n",
      "Requirement already satisfied: attrs>=19.2.0 in /usr/local/lib/python3.8/dist-packages (from fiona>=1.8.19->geopandas) (23.1.0)\n",
      "Requirement already satisfied: certifi in /usr/lib/python3/dist-packages (from fiona>=1.8.19->geopandas) (2019.11.28)\n",
      "Requirement already satisfied: click~=8.0 in /usr/local/lib/python3.8/dist-packages (from fiona>=1.8.19->geopandas) (8.1.7)\n",
      "Requirement already satisfied: click-plugins>=1.0 in /usr/local/lib/python3.8/dist-packages (from fiona>=1.8.19->geopandas) (1.1.1)\n",
      "Requirement already satisfied: cligj>=0.5 in /usr/local/lib/python3.8/dist-packages (from fiona>=1.8.19->geopandas) (0.7.2)\n",
      "Requirement already satisfied: six in /usr/lib/python3/dist-packages (from fiona>=1.8.19->geopandas) (1.14.0)\n",
      "Requirement already satisfied: setuptools in /usr/local/lib/python3.8/dist-packages (from fiona>=1.8.19->geopandas) (68.0.0)\n",
      "Requirement already satisfied: importlib-metadata in /usr/local/lib/python3.8/dist-packages (from fiona>=1.8.19->geopandas) (6.7.0)\n",
      "Requirement already satisfied: python-dateutil>=2.8.2 in /usr/local/lib/python3.8/dist-packages (from pandas>=1.1.0->geopandas) (2.8.2)\n",
      "Requirement already satisfied: pytz>=2020.1 in /usr/local/lib/python3.8/dist-packages (from pandas>=1.1.0->geopandas) (2024.1)\n",
      "Requirement already satisfied: tzdata>=2022.1 in /usr/local/lib/python3.8/dist-packages (from pandas>=1.1.0->geopandas) (2024.1)\n",
      "Requirement already satisfied: zipp>=0.5 in /usr/local/lib/python3.8/dist-packages (from importlib-metadata->fiona>=1.8.19->geopandas) (3.15.0)\n"
     ]
    }
   ],
   "source": [
    "! pip install geopandas shapely"
   ]
  },
  {
   "cell_type": "code",
   "execution_count": 4,
   "id": "a1846124-dd95-4b25-9092-b4d31a9c4b45",
   "metadata": {},
   "outputs": [
    {
     "ename": "AnalysisException",
     "evalue": "Table or view not found: job; line 8 pos 7;\n'Project ['lon, 'lat]\n+- 'SubqueryAlias time_series\n   +- 'Project ['lon, 'lat]\n      +- 'Filter exists#1 []\n         :  +- 'Project [*]\n         :     +- 'Filter (('job.id = 1) AND (('time_series.time >= 'job.start_time) AND ('time_series.time <= 'job.end_time)))\n         :        +- 'UnresolvedRelation [job], [], false\n         +- SubqueryAlias time_series\n            +- SubqueryAlias spark_catalog.default.dwd_time_series\n               +- Relation default.dwd_time_series[id#2L,time#3,lon#4,lat#5,yearMonth#6] parquet\n",
     "output_type": "error",
     "traceback": [
      "\u001b[0;31m---------------------------------------------------------------------------\u001b[0m",
      "\u001b[0;31mAnalysisException\u001b[0m                         Traceback (most recent call last)",
      "Cell \u001b[0;32mIn[4], line 15\u001b[0m\n\u001b[1;32m      1\u001b[0m \u001b[38;5;28mid\u001b[39m \u001b[38;5;241m=\u001b[39m \u001b[38;5;241m1\u001b[39m\n\u001b[1;32m      2\u001b[0m sql \u001b[38;5;241m=\u001b[39m \u001b[38;5;124m\"\"\"\u001b[39m\n\u001b[1;32m      3\u001b[0m \u001b[38;5;124mSELECT lon, lat\u001b[39m\n\u001b[1;32m      4\u001b[0m \u001b[38;5;124mFROM (\u001b[39m\n\u001b[0;32m   (...)\u001b[0m\n\u001b[1;32m     13\u001b[0m \u001b[38;5;124m) time_series;\u001b[39m\n\u001b[1;32m     14\u001b[0m \u001b[38;5;124m\"\"\"\u001b[39m\u001b[38;5;241m.\u001b[39mformat(\u001b[38;5;28mid\u001b[39m\u001b[38;5;241m=\u001b[39m\u001b[38;5;28mid\u001b[39m)\n\u001b[0;32m---> 15\u001b[0m points_df \u001b[38;5;241m=\u001b[39m \u001b[43mspark\u001b[49m\u001b[38;5;241;43m.\u001b[39;49m\u001b[43msql\u001b[49m\u001b[43m(\u001b[49m\u001b[43msql\u001b[49m\u001b[43m)\u001b[49m\n\u001b[1;32m     16\u001b[0m \u001b[38;5;28mprint\u001b[39m(points_df\u001b[38;5;241m.\u001b[39mcount())\n\u001b[1;32m     17\u001b[0m points_df\u001b[38;5;241m.\u001b[39mshow()\n",
      "File \u001b[0;32m/opt/spark/python/pyspark/sql/session.py:1034\u001b[0m, in \u001b[0;36mSparkSession.sql\u001b[0;34m(self, sqlQuery, **kwargs)\u001b[0m\n\u001b[1;32m   1032\u001b[0m     sqlQuery \u001b[38;5;241m=\u001b[39m formatter\u001b[38;5;241m.\u001b[39mformat(sqlQuery, \u001b[38;5;241m*\u001b[39m\u001b[38;5;241m*\u001b[39mkwargs)\n\u001b[1;32m   1033\u001b[0m \u001b[38;5;28;01mtry\u001b[39;00m:\n\u001b[0;32m-> 1034\u001b[0m     \u001b[38;5;28;01mreturn\u001b[39;00m DataFrame(\u001b[38;5;28;43mself\u001b[39;49m\u001b[38;5;241;43m.\u001b[39;49m\u001b[43m_jsparkSession\u001b[49m\u001b[38;5;241;43m.\u001b[39;49m\u001b[43msql\u001b[49m\u001b[43m(\u001b[49m\u001b[43msqlQuery\u001b[49m\u001b[43m)\u001b[49m, \u001b[38;5;28mself\u001b[39m)\n\u001b[1;32m   1035\u001b[0m \u001b[38;5;28;01mfinally\u001b[39;00m:\n\u001b[1;32m   1036\u001b[0m     \u001b[38;5;28;01mif\u001b[39;00m \u001b[38;5;28mlen\u001b[39m(kwargs) \u001b[38;5;241m>\u001b[39m \u001b[38;5;241m0\u001b[39m:\n",
      "File \u001b[0;32m/opt/spark/python/lib/py4j-0.10.9.5-src.zip/py4j/java_gateway.py:1321\u001b[0m, in \u001b[0;36mJavaMember.__call__\u001b[0;34m(self, *args)\u001b[0m\n\u001b[1;32m   1315\u001b[0m command \u001b[38;5;241m=\u001b[39m proto\u001b[38;5;241m.\u001b[39mCALL_COMMAND_NAME \u001b[38;5;241m+\u001b[39m\\\n\u001b[1;32m   1316\u001b[0m     \u001b[38;5;28mself\u001b[39m\u001b[38;5;241m.\u001b[39mcommand_header \u001b[38;5;241m+\u001b[39m\\\n\u001b[1;32m   1317\u001b[0m     args_command \u001b[38;5;241m+\u001b[39m\\\n\u001b[1;32m   1318\u001b[0m     proto\u001b[38;5;241m.\u001b[39mEND_COMMAND_PART\n\u001b[1;32m   1320\u001b[0m answer \u001b[38;5;241m=\u001b[39m \u001b[38;5;28mself\u001b[39m\u001b[38;5;241m.\u001b[39mgateway_client\u001b[38;5;241m.\u001b[39msend_command(command)\n\u001b[0;32m-> 1321\u001b[0m return_value \u001b[38;5;241m=\u001b[39m \u001b[43mget_return_value\u001b[49m\u001b[43m(\u001b[49m\n\u001b[1;32m   1322\u001b[0m \u001b[43m    \u001b[49m\u001b[43manswer\u001b[49m\u001b[43m,\u001b[49m\u001b[43m \u001b[49m\u001b[38;5;28;43mself\u001b[39;49m\u001b[38;5;241;43m.\u001b[39;49m\u001b[43mgateway_client\u001b[49m\u001b[43m,\u001b[49m\u001b[43m \u001b[49m\u001b[38;5;28;43mself\u001b[39;49m\u001b[38;5;241;43m.\u001b[39;49m\u001b[43mtarget_id\u001b[49m\u001b[43m,\u001b[49m\u001b[43m \u001b[49m\u001b[38;5;28;43mself\u001b[39;49m\u001b[38;5;241;43m.\u001b[39;49m\u001b[43mname\u001b[49m\u001b[43m)\u001b[49m\n\u001b[1;32m   1324\u001b[0m \u001b[38;5;28;01mfor\u001b[39;00m temp_arg \u001b[38;5;129;01min\u001b[39;00m temp_args:\n\u001b[1;32m   1325\u001b[0m     temp_arg\u001b[38;5;241m.\u001b[39m_detach()\n",
      "File \u001b[0;32m/opt/spark/python/pyspark/sql/utils.py:196\u001b[0m, in \u001b[0;36mcapture_sql_exception.<locals>.deco\u001b[0;34m(*a, **kw)\u001b[0m\n\u001b[1;32m    192\u001b[0m converted \u001b[38;5;241m=\u001b[39m convert_exception(e\u001b[38;5;241m.\u001b[39mjava_exception)\n\u001b[1;32m    193\u001b[0m \u001b[38;5;28;01mif\u001b[39;00m \u001b[38;5;129;01mnot\u001b[39;00m \u001b[38;5;28misinstance\u001b[39m(converted, UnknownException):\n\u001b[1;32m    194\u001b[0m     \u001b[38;5;66;03m# Hide where the exception came from that shows a non-Pythonic\u001b[39;00m\n\u001b[1;32m    195\u001b[0m     \u001b[38;5;66;03m# JVM exception message.\u001b[39;00m\n\u001b[0;32m--> 196\u001b[0m     \u001b[38;5;28;01mraise\u001b[39;00m converted \u001b[38;5;28;01mfrom\u001b[39;00m \u001b[38;5;28;01mNone\u001b[39;00m\n\u001b[1;32m    197\u001b[0m \u001b[38;5;28;01melse\u001b[39;00m:\n\u001b[1;32m    198\u001b[0m     \u001b[38;5;28;01mraise\u001b[39;00m\n",
      "\u001b[0;31mAnalysisException\u001b[0m: Table or view not found: job; line 8 pos 7;\n'Project ['lon, 'lat]\n+- 'SubqueryAlias time_series\n   +- 'Project ['lon, 'lat]\n      +- 'Filter exists#1 []\n         :  +- 'Project [*]\n         :     +- 'Filter (('job.id = 1) AND (('time_series.time >= 'job.start_time) AND ('time_series.time <= 'job.end_time)))\n         :        +- 'UnresolvedRelation [job], [], false\n         +- SubqueryAlias time_series\n            +- SubqueryAlias spark_catalog.default.dwd_time_series\n               +- Relation default.dwd_time_series[id#2L,time#3,lon#4,lat#5,yearMonth#6] parquet\n"
     ]
    }
   ],
   "source": [
    "id = 1\n",
    "sql = \"\"\"\n",
    "SELECT lon, lat\n",
    "FROM (\n",
    "\tSELECT lon, lat\n",
    "\tFROM dwd_time_series as time_series\n",
    "\tWHERE EXISTS (\n",
    "\t\tSELECT *\n",
    "\t\tFROM job\n",
    "\t\tWHERE job.id = {id}\n",
    "\t\t\tAND time_series.time BETWEEN job.start_time AND job.end_time\n",
    "\t)\n",
    ") time_series;\n",
    "\"\"\".format(id=id)\n",
    "points_df = spark.sql(sql)\n",
    "print(points_df.count())\n",
    "points_df.show()\n"
   ]
  },
  {
   "cell_type": "code",
   "execution_count": 7,
   "id": "4ca1668a",
   "metadata": {},
   "outputs": [
    {
     "name": "stderr",
     "output_type": "stream",
     "text": [
      "                                                                                \r"
     ]
    },
    {
     "name": "stdout",
     "output_type": "stream",
     "text": [
      "1441\n"
     ]
    },
    {
     "name": "stderr",
     "output_type": "stream",
     "text": [
      "                                                                                \r"
     ]
    },
    {
     "name": "stdout",
     "output_type": "stream",
     "text": [
      "+---------+---------+\n",
      "|      lon|      lat|\n",
      "+---------+---------+\n",
      "| 45.00023| 46.00023|\n",
      "| 45.00023| 46.00023|\n",
      "| 45.00023| 46.00023|\n",
      "| 45.00023| 46.00023|\n",
      "| 45.00023| 46.00023|\n",
      "| 45.00023| 46.00023|\n",
      "| 45.00023| 46.00023|\n",
      "| 45.00023| 46.00023|\n",
      "| 45.00023| 46.00023|\n",
      "|45.000233|46.000233|\n",
      "|45.000233|46.000233|\n",
      "|45.000233|46.000233|\n",
      "|45.000233|46.000233|\n",
      "|45.000233|46.000233|\n",
      "|45.000233|46.000233|\n",
      "|45.000233|46.000233|\n",
      "|45.000233|46.000233|\n",
      "|45.000233|46.000233|\n",
      "|45.000233|46.000233|\n",
      "|45.000233|46.000233|\n",
      "+---------+---------+\n",
      "only showing top 20 rows\n",
      "\n"
     ]
    },
    {
     "name": "stderr",
     "output_type": "stream",
     "text": [
      "                                                                                \r"
     ]
    },
    {
     "data": {
      "image/png": "[encoded data removed]",
      "text/plain": [
       "<Figure size 640x480 with 1 Axes>"
      ]
     },
     "metadata": {},
     "output_type": "display_data"
    }
   ],
   "source": [
    "id = 1\n",
    "sql = \"\"\"\n",
    "SELECT lon,lat\n",
    "FROM (\n",
    "\tSELECT lon, lat\n",
    "\tFROM dwd_time_series as time_series\n",
    "\tWHERE EXISTS (\n",
    "\t\tSELECT *\n",
    "\t\tFROM dwm_job as job\n",
    "\t\tWHERE job.id = 1\n",
    "\t\t\tAND time_series.time BETWEEN job.start_time AND job.end_time\n",
    "\t)\n",
    ") dwd_time_series;\n",
    "\"\"\"\n",
    "points_df = spark.sql(sql)\n",
    "print(points_df.count())\n",
    "points_df.show()\n",
    "\n",
    "# https://ncar.github.io/PySpark4Climate/tutorials/pyspark-geo-analysis/geopandas-and-spark/#Load-Data-in-a-GeoDataFrame\n",
    "# 创建GeoDataFrame\n",
    "\n",
    "lon_list = points_df.select(\"lon\").rdd.flatMap(lambda x: x).collect()\n",
    "lat_list = points_df.select(\"lat\").rdd.flatMap(lambda x: x).collect()\n",
    "import geopandas as gpd\n",
    "from shapely.geometry import Point\n",
    "from shapely.geometry import LineString\n",
    "import matplotlib.pyplot as plt\n",
    "\n",
    "\n",
    "# 创建几何对象\n",
    "geometry = [Point(xy) for xy in zip(lon_list,lat_list)]\n",
    "\n",
    "# 创建Geopandas的GeoDataFrame\n",
    "gdf = gpd.GeoDataFrame(geometry=geometry)\n",
    "\n",
    "fig,ax=plt.subplots()\n",
    "\n",
    "# 将 GeoDataFrame 转换为 GeoSeries 对象\n",
    "geo=gdf['geometry']\n",
    "\n",
    "# 使用 GeoSeries 对象绘制线条\n",
    "gpd.GeoSeries(geometry).plot(ax=ax)\n",
    "\n",
    "# 显示图形\n",
    "plt.show()\n",
    "\n",
    "# # 创建曲线\n",
    "# gdf['curve'] =gdf['geometry'].apply(lambda geom: LineString(geom.coords))\n",
    "\n",
    "# # 删除重复的曲线\n",
    "# gdf = gdf.drop_duplicates(subset=['group_column', 'curve'])\n",
    "\n",
    "# # 将GeoDataFrame的几何列转换为WKT格式的字符串\n",
    "# gdf['curve_wkt'] = gdf['curve'].apply(lambda x: x.wkt)\n",
    "\n",
    "# print(gdf['curve_wkt'])\n"
   ]
  },
  {
   "cell_type": "code",
   "execution_count": 8,
   "id": "da36b2c2",
   "metadata": {},
   "outputs": [
    {
     "name": "stdout",
     "output_type": "stream",
     "text": [
      "LineString contains 999947 points.\n"
     ]
    }
   ],
   "source": [
    "from shapely.geometry import LineString\n",
    "\n",
    "print(f\"LineString contains {len(gdf['geometry'].tolist())} points.\")\n",
    "linestring = LineString(gdf['geometry'].tolist())\n"
   ]
  },
  {
   "cell_type": "code",
   "execution_count": 9,
   "id": "97eb8f4a",
   "metadata": {
    "scrolled": true
   },
   "outputs": [
    {
     "name": "stderr",
     "output_type": "stream",
     "text": [
      "IOPub data rate exceeded.\n",
      "The notebook server will temporarily stop sending output\n",
      "to the client in order to avoid crashing it.\n",
      "To change this limit, set the config variable\n",
      "`--NotebookApp.iopub_data_rate_limit`.\n",
      "\n",
      "Current values:\n",
      "NotebookApp.iopub_data_rate_limit=1000000.0 (bytes/sec)\n",
      "NotebookApp.rate_limit_window=3.0 (secs)\n",
      "\n"
     ]
    }
   ],
   "source": [
    "sql = \"\"\"\n",
    "INSERT INTO gisdb.output (job_id, geoms)\n",
    "VALUES (1, ST_GeomFromText('{linestring}', 4326));\n",
    "\"\"\".format(linestring=linestring)\n",
    "print(sql)"
   ]
  },
  {
   "cell_type": "code",
   "execution_count": null,
   "id": "904f9c16",
   "metadata": {},
   "outputs": [],
   "source": []
  }
 ],
 "metadata": {
  "kernelspec": {
   "display_name": "Python 3 (ipykernel)",
   "language": "python",
   "name": "python3"
  },
  "language_info": {
   "codemirror_mode": {
    "name": "ipython",
    "version": 3
   },
   "file_extension": ".py",
   "mimetype": "text/x-python",
   "name": "python",
   "nbconvert_exporter": "python",
   "pygments_lexer": "ipython3",
   "version": "3.8.10"
  }
 },
 "nbformat": 4,
 "nbformat_minor": 5
}
