{
 "cells": [
  {
   "cell_type": "code",
   "execution_count": null,
   "id": "605b3b4e-e526-4bfc-8f41-3118ee1d348d",
   "metadata": {},
   "outputs": [],
   "source": [
    "import findspark\n",
    "findspark.init('/opt/spark')\n",
    "from pyspark.sql import SparkSession\n",
    "\n",
    "spark = SparkSession.builder \\\n",
    "    .appName(\"BDH-DATA-JOB\") \\\n",
    "    .enableHiveSupport() \\\n",
    "    .getOrCreate()\n",
    "\n",
    "print(\"Spark版本:\", spark.version)"
   ]
  },
  {
   "cell_type": "code",
   "execution_count": null,
   "id": "5e801935-ab77-4a63-a0bb-84b1ba8a3518",
   "metadata": {},
   "outputs": [],
   "source": [
    "! pip install geopandas shapely"
   ]
  },
  {
   "cell_type": "code",
   "execution_count": 2,
   "id": "a1846124-dd95-4b25-9092-b4d31a9c4b45",
   "metadata": {},
   "outputs": [
    {
     "ename": "NameError",
     "evalue": "name 'spark' is not defined",
     "output_type": "error",
     "traceback": [
      "\u001b[0;31m---------------------------------------------------------------------------\u001b[0m",
      "\u001b[0;31mNameError\u001b[0m                                 Traceback (most recent call last)",
      "Cell \u001b[0;32mIn [2], line 15\u001b[0m\n\u001b[1;32m      1\u001b[0m \u001b[38;5;28mid\u001b[39m \u001b[38;5;241m=\u001b[39m \u001b[38;5;241m1\u001b[39m\n\u001b[1;32m      2\u001b[0m sql \u001b[38;5;241m=\u001b[39m \u001b[38;5;124m\"\"\"\u001b[39m\n\u001b[1;32m      3\u001b[0m \u001b[38;5;124mSELECT lon, lat\u001b[39m\n\u001b[1;32m      4\u001b[0m \u001b[38;5;124mFROM (\u001b[39m\n\u001b[0;32m   (...)\u001b[0m\n\u001b[1;32m     13\u001b[0m \u001b[38;5;124m) time_series;\u001b[39m\n\u001b[1;32m     14\u001b[0m \u001b[38;5;124m\"\"\"\u001b[39m\u001b[38;5;241m.\u001b[39mformat(\u001b[38;5;28mid\u001b[39m\u001b[38;5;241m=\u001b[39m\u001b[38;5;28mid\u001b[39m)\n\u001b[0;32m---> 15\u001b[0m points_df \u001b[38;5;241m=\u001b[39m \u001b[43mspark\u001b[49m\u001b[38;5;241m.\u001b[39msql(sql)\n\u001b[1;32m     16\u001b[0m \u001b[38;5;28mprint\u001b[39m(points_df\u001b[38;5;241m.\u001b[39mcount())\n\u001b[1;32m     17\u001b[0m points_df\u001b[38;5;241m.\u001b[39mshow()\n",
      "\u001b[0;31mNameError\u001b[0m: name 'spark' is not defined"
     ]
    }
   ],
   "source": [
    "id = 1\n",
    "sql = \"\"\"\n",
    "SELECT lon, lat\n",
    "FROM (\n",
    "\tSELECT lon, lat\n",
    "\tFROM time_series\n",
    "\tWHERE EXISTS (\n",
    "\t\tSELECT *\n",
    "\t\tFROM job\n",
    "\t\tWHERE job.id = {id}\n",
    "\t\t\tAND time_series.time BETWEEN job.start_time AND job.end_time\n",
    "\t)\n",
    ") time_series;\n",
    "\"\"\".format(id=id)\n",
    "points_df = spark.sql(sql)\n",
    "print(points_df.count())\n",
    "points_df.show()\n"
   ]
  },
  {
   "cell_type": "code",
   "execution_count": 1,
   "id": "4ca1668a",
   "metadata": {},
   "outputs": [
    {
     "ename": "NameError",
     "evalue": "name 'points_df' is not defined",
     "output_type": "error",
     "traceback": [
      "\u001b[0;31m---------------------------------------------------------------------------\u001b[0m",
      "\u001b[0;31mNameError\u001b[0m                                 Traceback (most recent call last)",
      "Cell \u001b[0;32mIn [1], line 4\u001b[0m\n\u001b[1;32m      1\u001b[0m \u001b[38;5;66;03m# https://ncar.github.io/PySpark4Climate/tutorials/pyspark-geo-analysis/geopandas-and-spark/#Load-Data-in-a-GeoDataFrame\u001b[39;00m\n\u001b[1;32m      2\u001b[0m \u001b[38;5;66;03m# 创建GeoDataFrame\u001b[39;00m\n\u001b[0;32m----> 4\u001b[0m lon_list \u001b[38;5;241m=\u001b[39m \u001b[43mpoints_df\u001b[49m\u001b[38;5;241m.\u001b[39mselect(\u001b[38;5;124m\"\u001b[39m\u001b[38;5;124mlon\u001b[39m\u001b[38;5;124m\"\u001b[39m)\u001b[38;5;241m.\u001b[39mrdd\u001b[38;5;241m.\u001b[39mflatMap(\u001b[38;5;28;01mlambda\u001b[39;00m x: x)\u001b[38;5;241m.\u001b[39mcollect()\n\u001b[1;32m      5\u001b[0m lat_list \u001b[38;5;241m=\u001b[39m points_df\u001b[38;5;241m.\u001b[39mselect(\u001b[38;5;124m\"\u001b[39m\u001b[38;5;124mlat\u001b[39m\u001b[38;5;124m\"\u001b[39m)\u001b[38;5;241m.\u001b[39mrdd\u001b[38;5;241m.\u001b[39mflatMap(\u001b[38;5;28;01mlambda\u001b[39;00m x: x)\u001b[38;5;241m.\u001b[39mcollect()\n\u001b[1;32m      6\u001b[0m \u001b[38;5;28;01mimport\u001b[39;00m \u001b[38;5;21;01mgeopandas\u001b[39;00m \u001b[38;5;28;01mas\u001b[39;00m \u001b[38;5;21;01mgpd\u001b[39;00m\n",
      "\u001b[0;31mNameError\u001b[0m: name 'points_df' is not defined"
     ]
    }
   ],
   "source": [
    "# https://ncar.github.io/PySpark4Climate/tutorials/pyspark-geo-analysis/geopandas-and-spark/#Load-Data-in-a-GeoDataFrame\n",
    "# 创建GeoDataFrame\n",
    "\n",
    "lon_list = points_df.select(\"lon\").rdd.flatMap(lambda x: x).collect()\n",
    "lat_list = points_df.select(\"lat\").rdd.flatMap(lambda x: x).collect()\n",
    "import geopandas as gpd\n",
    "from shapely.geometry import Point\n",
    "from shapely.geometry import LineString\n",
    "import matplotlib.pyplot as plt\n",
    "\n",
    "# 创建几何对象\n",
    "geometry = [Point(xy) for xy in zip(lon_list,lat_list)]\n",
    "\n",
    "# 创建Geopandas的GeoDataFrame\n",
    "gdf = gpd.GeoDataFrame(geometry=geometry)\n",
    "\n",
    "fig,ax=plt.subplots()\n",
    "\n",
    "# 将 GeoDataFrame 转换为 GeoSeries 对象\n",
    "geo=gdf['geometry']\n",
    "\n",
    "# 使用 GeoSeries 对象绘制线条\n",
    "gpd.GeoSeries(geometry).plot(ax=ax)\n",
    "\n",
    "# 显示图形\n",
    "plt.show()\n",
    "\n",
    "# # 创建曲线\n",
    "# gdf['curve'] =gdf['geometry'].apply(lambda geom: LineString(geom.coords))\n",
    "\n",
    "# # 删除重复的曲线\n",
    "# gdf = gdf.drop_duplicates(subset=['group_column', 'curve'])\n",
    "\n",
    "# # 将GeoDataFrame的几何列转换为WKT格式的字符串\n",
    "# gdf['curve_wkt'] = gdf['curve'].apply(lambda x: x.wkt)\n",
    "\n",
    "# print(gdf['curve_wkt'])\n"
   ]
  },
  {
   "cell_type": "code",
   "execution_count": 8,
   "id": "da36b2c2",
   "metadata": {},
   "outputs": [
    {
     "name": "stdout",
     "output_type": "stream",
     "text": [
      "LineString contains 999947 points.\n"
     ]
    }
   ],
   "source": [
    "from shapely.geometry import LineString\n",
    "\n",
    "print(f\"LineString contains {len(gdf['geometry'].tolist())} points.\")\n",
    "linestring = LineString(gdf['geometry'].tolist())\n"
   ]
  },
  {
   "cell_type": "code",
   "execution_count": 9,
   "id": "97eb8f4a",
   "metadata": {
    "scrolled": true
   },
   "outputs": [
    {
     "name": "stderr",
     "output_type": "stream",
     "text": [
      "IOPub data rate exceeded.\n",
      "The notebook server will temporarily stop sending output\n",
      "to the client in order to avoid crashing it.\n",
      "To change this limit, set the config variable\n",
      "`--NotebookApp.iopub_data_rate_limit`.\n",
      "\n",
      "Current values:\n",
      "NotebookApp.iopub_data_rate_limit=1000000.0 (bytes/sec)\n",
      "NotebookApp.rate_limit_window=3.0 (secs)\n",
      "\n"
     ]
    }
   ],
   "source": [
    "sql = \"\"\"\n",
    "INSERT INTO gisdb.output (job_id, geoms)\n",
    "VALUES (1, ST_GeomFromText('{linestring}', 4326));\n",
    "\"\"\".format(linestring=linestring)\n",
    "print(sql)"
   ]
  },
  {
   "cell_type": "code",
   "execution_count": null,
   "metadata": {},
   "outputs": [],
   "source": []
  }
 ],
 "metadata": {
  "kernelspec": {
   "display_name": "Python 3",
   "language": "python",
   "name": "python3"
  },
  "language_info": {
   "codemirror_mode": {
    "name": "ipython",
    "version": 3
   },
   "file_extension": ".py",
   "mimetype": "text/x-python",
   "name": "python",
   "nbconvert_exporter": "python",
   "pygments_lexer": "ipython3",
   "version": "3.8.10"
  }
 },
 "nbformat": 4,
 "nbformat_minor": 5
}
