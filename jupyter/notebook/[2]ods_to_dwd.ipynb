{
 "cells": [
  {
   "cell_type": "code",
   "execution_count": 1,
   "metadata": {},
   "outputs": [
    {
     "name": "stderr",
     "output_type": "stream",
     "text": [
      "Setting default log level to \"WARN\".\n",
      "To adjust logging level use sc.setLogLevel(newLevel). For SparkR, use setLogLevel(newLevel).\n"
     ]
    },
    {
     "name": "stdout",
     "output_type": "stream",
     "text": [
      "24/03/07 03:29:49 WARN SetCommand: 'SET hive.exec.dynamici.partition=true' might not work, since Spark doesn't support changing the Hive config dynamically. Please pass the Hive-specific config by adding the prefix spark.hadoop (e.g. spark.hadoop.hive.exec.dynamici.partition) when starting a Spark application. For details, see the link: https://spark.apache.org/docs/latest/configuration.html#dynamically-loading-spark-properties.\n",
      "24/03/07 03:29:49 WARN SetCommand: 'SET hive.exec.dynamic.partition.mode=nonstrict' might not work, since Spark doesn't support changing the Hive config dynamically. Please pass the Hive-specific config by adding the prefix spark.hadoop (e.g. spark.hadoop.hive.exec.dynamic.partition.mode) when starting a Spark application. For details, see the link: https://spark.apache.org/docs/latest/configuration.html#dynamically-loading-spark-properties.\n",
      "DWD init spark content successful\n"
     ]
    }
   ],
   "source": [
    "# ods -> dwd 层： 执行数据清洗任务\n",
    "import findspark\n",
    "findspark.init('/opt/spark')\n",
    "from pyspark.sql import SparkSession\n",
    "\n",
    "spark = SparkSession.builder \\\n",
    "    .appName(\"ods_to_dwd\") \\\n",
    "    .enableHiveSupport() \\\n",
    "    .getOrCreate()\n",
    "\n",
    "spark.sql(\"set hive.exec.dynamici.partition=true;\")\n",
    "spark.sql(\"set hive.exec.dynamic.partition.mode=nonstrict;\")\n",
    "\n",
    "print(\"DWD init spark content successful\")"
   ]
  },
  {
   "cell_type": "code",
   "execution_count": 2,
   "metadata": {},
   "outputs": [
    {
     "name": "stdout",
     "output_type": "stream",
     "text": [
      "Init dwd dwd_time_series ,dwd_job  Success\n"
     ]
    }
   ],
   "source": [
    "# create database time_series\n",
    "spark.sql(\"DROP TABLE IF EXISTS dwd_time_series;\")\n",
    "sql = \"\"\"\n",
    "CREATE TABLE IF NOT EXISTS dwd_time_series\n",
    "(id bigint,\n",
    "time TIMESTAMP,\n",
    "lon float,\n",
    "lat float)\n",
    "PARTITIONED BY(yearMonth string)\n",
    "STORED AS PARQUET;\n",
    "\"\"\"\n",
    "spark.sql(sql)\n",
    "\n",
    "# create database job\n",
    "spark.sql(\"DROP TABLE IF EXISTS dwd_job;\")\n",
    "sql = \"\"\"\n",
    "CREATE TABLE IF NOT EXISTS dwd_job\n",
    "(id bigint,start_time TIMESTAMP,end_time TIMESTAMP)\n",
    "PARTITIONED BY(yearMonth string)\n",
    "STORED AS PARQUET;\n",
    "\"\"\"\n",
    "spark.sql(sql)\n",
    "\n",
    "# 创建输出表\n",
    "#CREATE TABLE output(id SERIAL PRIMARY KEY,job_id int4);\n",
    "\n",
    "print(\"Init dwd dwd_time_series ,dwd_job  Success\")"
   ]
  },
  {
   "cell_type": "code",
   "execution_count": 3,
   "metadata": {},
   "outputs": [
    {
     "name": "stdout",
     "output_type": "stream",
     "text": [
      "\n",
      "INSERT INTO dwd_job partition(yearMonth)\n",
      "SELECT\n",
      " id as id,\n",
      " start_time as start_time,\n",
      " end_time as end_time,\n",
      " date_format(start_time,'yyyyMM') as yearMonth\n",
      " FROM ods_job;\n",
      "\n"
     ]
    },
    {
     "name": "stderr",
     "output_type": "stream",
     "text": [
      "                                                                                \r"
     ]
    },
    {
     "name": "stdout",
     "output_type": "stream",
     "text": [
      "+-----+-------------------+-------------------+---------+\n",
      "|   id|         start_time|           end_time|yearMonth|\n",
      "+-----+-------------------+-------------------+---------+\n",
      "|10208|2025-03-01 00:00:00|2025-03-01 01:00:00|   202503|\n",
      "+-----+-------------------+-------------------+---------+\n",
      "\n"
     ]
    }
   ],
   "source": [
    "# ODS 表写入DWD 表 dwd_job\n",
    "\n",
    "\n",
    "sql = '''\n",
    "INSERT INTO dwd_job partition(yearMonth)\n",
    "SELECT\n",
    " id as id,\n",
    " start_time as start_time,\n",
    " end_time as end_time,\n",
    " date_format(start_time,'yyyyMM') as yearMonth\n",
    " FROM ods_job;\n",
    "'''\n",
    "print(sql)\n",
    "result = spark.sql(sql)\n",
    "\n",
    "# 查看一条数据\n",
    "result = spark.sql(\"SELECT * FROM dwd_job LIMIT 1\")\n",
    "result.show()"
   ]
  },
  {
   "cell_type": "code",
   "execution_count": 4,
   "metadata": {},
   "outputs": [
    {
     "name": "stdout",
     "output_type": "stream",
     "text": [
      "\n",
      "INSERT INTO dwd_time_series partition(yearMonth)\n",
      "SELECT\n",
      " id as id,\n",
      " time as time,\n",
      " lon as lon,\n",
      " lat as lat,\n",
      " date_format(time,'yyyyMM') as yearMonth\n",
      " FROM ods_time_series;\n",
      "\n"
     ]
    },
    {
     "name": "stderr",
     "output_type": "stream",
     "text": [
      "                                                                                \r"
     ]
    },
    {
     "name": "stdout",
     "output_type": "stream",
     "text": [
      "+---------+-------------------+---------+---------+---------+\n",
      "|       id|               time|      lon|      lat|yearMonth|\n",
      "+---------+-------------------+---------+---------+---------+\n",
      "|178862399|2029-09-01 00:00:00|45.568024|46.568024|   202909|\n",
      "+---------+-------------------+---------+---------+---------+\n",
      "\n"
     ]
    }
   ],
   "source": [
    "# ODS 表写入DWD 表 dwd_time_series\n",
    "\n",
    "\n",
    "sql = '''\n",
    "INSERT INTO dwd_time_series partition(yearMonth)\n",
    "SELECT\n",
    " id as id,\n",
    " time as time,\n",
    " lon as lon,\n",
    " lat as lat,\n",
    " date_format(time,'yyyyMM') as yearMonth\n",
    " FROM ods_time_series;\n",
    "'''\n",
    "print(sql)\n",
    "result = spark.sql(sql)\n",
    "\n",
    "# 查看一条数据\n",
    "result = spark.sql(\"SELECT * FROM dwd_time_series LIMIT 1\")\n",
    "result.show()"
   ]
  },
  {
   "cell_type": "code",
   "execution_count": 5,
   "metadata": {},
   "outputs": [
    {
     "name": "stdout",
     "output_type": "stream",
     "text": [
      "+----------------+\n",
      "|       partition|\n",
      "+----------------+\n",
      "|yearMonth=202312|\n",
      "|yearMonth=202401|\n",
      "|yearMonth=202402|\n",
      "|yearMonth=202403|\n",
      "|yearMonth=202404|\n",
      "|yearMonth=202405|\n",
      "|yearMonth=202406|\n",
      "|yearMonth=202407|\n",
      "|yearMonth=202408|\n",
      "|yearMonth=202409|\n",
      "|yearMonth=202410|\n",
      "|yearMonth=202411|\n",
      "|yearMonth=202412|\n",
      "|yearMonth=202501|\n",
      "|yearMonth=202502|\n",
      "|yearMonth=202503|\n",
      "|yearMonth=202504|\n",
      "|yearMonth=202505|\n",
      "|yearMonth=202506|\n",
      "|yearMonth=202507|\n",
      "+----------------+\n",
      "only showing top 20 rows\n",
      "\n"
     ]
    }
   ],
   "source": [
    "# 查看分区数目\n",
    "result = spark.sql(\"SHOW PARTITIONS dwd_time_series;\")\n",
    "result.show()"
   ]
  },
  {
   "cell_type": "code",
   "execution_count": 6,
   "metadata": {},
   "outputs": [
    {
     "name": "stdout",
     "output_type": "stream",
     "text": [
      "+-------------------------+\n",
      "|date_format(time, yyyyMM)|\n",
      "+-------------------------+\n",
      "|                   202609|\n",
      "|                   202609|\n",
      "|                   202609|\n",
      "|                   202609|\n",
      "|                   202609|\n",
      "|                   202609|\n",
      "|                   202609|\n",
      "|                   202609|\n",
      "|                   202609|\n",
      "|                   202609|\n",
      "|                   202609|\n",
      "|                   202609|\n",
      "|                   202609|\n",
      "|                   202609|\n",
      "|                   202609|\n",
      "|                   202609|\n",
      "|                   202609|\n",
      "|                   202609|\n",
      "|                   202609|\n",
      "|                   202609|\n",
      "+-------------------------+\n",
      "only showing top 20 rows\n",
      "\n"
     ]
    }
   ],
   "source": [
    "# 查看分区数目\n",
    "result = spark.sql(\"select date_format(time,'yyyyMM') from dwd_time_series ;\")\n",
    "result.show()"
   ]
  }
 ],
 "metadata": {
  "kernelspec": {
   "display_name": "Python 3 (ipykernel)",
   "language": "python",
   "name": "python3"
  },
  "language_info": {
   "codemirror_mode": {
    "name": "ipython",
    "version": 3
   },
   "file_extension": ".py",
   "mimetype": "text/x-python",
   "name": "python",
   "nbconvert_exporter": "python",
   "pygments_lexer": "ipython3",
   "version": "3.8.10"
  }
 },
 "nbformat": 4,
 "nbformat_minor": 2
}
