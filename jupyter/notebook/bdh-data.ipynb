{
 "cells": [
  {
   "cell_type": "code",
   "execution_count": 1,
   "id": "605b3b4e-e526-4bfc-8f41-3118ee1d348d",
   "metadata": {},
   "outputs": [
    {
     "name": "stdout",
     "output_type": "stream",
     "text": [
      "Spark版本: 3.3.3\n"
     ]
    }
   ],
   "source": [
    "import findspark\n",
    "findspark.init('/opt/spark')\n",
    "from pyspark.sql import SparkSession\n",
    "\n",
    "spark = SparkSession.builder \\\n",
    "    .appName(\"BDH-DATA-JOB\") \\\n",
    "    .enableHiveSupport() \\\n",
    "    .getOrCreate()\n",
    "\n",
    "print(\"Spark版本:\", spark.version)"
   ]
  },
  {
   "cell_type": "code",
   "execution_count": 2,
   "id": "5e801935-ab77-4a63-a0bb-84b1ba8a3518",
   "metadata": {},
   "outputs": [
    {
     "name": "stdout",
     "output_type": "stream",
     "text": [
      "Defaulting to user installation because normal site-packages is not writeable\n",
      "Requirement already satisfied: geopandas in /home/jupyter/.local/lib/python3.8/site-packages (0.13.2)\n",
      "Requirement already satisfied: shapely in /home/jupyter/.local/lib/python3.8/site-packages (2.0.2)\n",
      "Requirement already satisfied: fiona>=1.8.19 in /home/jupyter/.local/lib/python3.8/site-packages (from geopandas) (1.9.5)\n",
      "Requirement already satisfied: packaging in /usr/local/lib/python3.8/dist-packages (from geopandas) (21.3)\n",
      "Requirement already satisfied: pandas>=1.1.0 in /usr/local/lib/python3.8/dist-packages (from geopandas) (2.0.3)\n",
      "Requirement already satisfied: pyproj>=3.0.1 in /home/jupyter/.local/lib/python3.8/site-packages (from geopandas) (3.5.0)\n",
      "Requirement already satisfied: numpy>=1.14 in /usr/local/lib/python3.8/dist-packages (from shapely) (1.23.4)\n",
      "Requirement already satisfied: attrs>=19.2.0 in /usr/local/lib/python3.8/dist-packages (from fiona>=1.8.19->geopandas) (22.1.0)\n",
      "Requirement already satisfied: certifi in /usr/lib/python3/dist-packages (from fiona>=1.8.19->geopandas) (2019.11.28)\n",
      "Requirement already satisfied: click~=8.0 in /home/jupyter/.local/lib/python3.8/site-packages (from fiona>=1.8.19->geopandas) (8.1.7)\n",
      "Requirement already satisfied: click-plugins>=1.0 in /home/jupyter/.local/lib/python3.8/site-packages (from fiona>=1.8.19->geopandas) (1.1.1)\n",
      "Requirement already satisfied: cligj>=0.5 in /home/jupyter/.local/lib/python3.8/site-packages (from fiona>=1.8.19->geopandas) (0.7.2)\n",
      "Requirement already satisfied: six in /usr/lib/python3/dist-packages (from fiona>=1.8.19->geopandas) (1.14.0)\n",
      "Requirement already satisfied: setuptools in /usr/local/lib/python3.8/dist-packages (from fiona>=1.8.19->geopandas) (65.5.1)\n",
      "Requirement already satisfied: importlib-metadata in /usr/local/lib/python3.8/dist-packages (from fiona>=1.8.19->geopandas) (5.0.0)\n",
      "Requirement already satisfied: python-dateutil>=2.8.2 in /usr/local/lib/python3.8/dist-packages (from pandas>=1.1.0->geopandas) (2.8.2)\n",
      "Requirement already satisfied: pytz>=2020.1 in /usr/local/lib/python3.8/dist-packages (from pandas>=1.1.0->geopandas) (2024.1)\n",
      "Requirement already satisfied: tzdata>=2022.1 in /usr/local/lib/python3.8/dist-packages (from pandas>=1.1.0->geopandas) (2023.4)\n",
      "Requirement already satisfied: pyparsing!=3.0.5,>=2.0.2 in /usr/local/lib/python3.8/dist-packages (from packaging->geopandas) (3.0.9)\n",
      "Requirement already satisfied: zipp>=0.5 in /usr/local/lib/python3.8/dist-packages (from importlib-metadata->fiona>=1.8.19->geopandas) (3.10.0)\n"
     ]
    }
   ],
   "source": [
    "! pip install geopandas shapely\n"
   ]
  },
  {
   "cell_type": "code",
   "execution_count": 3,
   "id": "a1846124-dd95-4b25-9092-b4d31a9c4b45",
   "metadata": {},
   "outputs": [
    {
     "ename": "NameError",
     "evalue": "name 'DataFrame' is not defined",
     "output_type": "error",
     "traceback": [
      "\u001b[0;31m---------------------------------------------------------------------------\u001b[0m",
      "\u001b[0;31mNameError\u001b[0m                                 Traceback (most recent call last)",
      "Cell \u001b[0;32mIn [3], line 16\u001b[0m\n\u001b[1;32m      2\u001b[0m sql \u001b[38;5;241m=\u001b[39m \u001b[38;5;124m\"\"\"\u001b[39m\n\u001b[1;32m      3\u001b[0m \u001b[38;5;124mSELECT lon, lat\u001b[39m\n\u001b[1;32m      4\u001b[0m \u001b[38;5;124mFROM (\u001b[39m\n\u001b[0;32m   (...)\u001b[0m\n\u001b[1;32m     13\u001b[0m \u001b[38;5;124m) time_series;\u001b[39m\n\u001b[1;32m     14\u001b[0m \u001b[38;5;124m\"\"\"\u001b[39m\u001b[38;5;241m.\u001b[39mformat(\u001b[38;5;28mid\u001b[39m\u001b[38;5;241m=\u001b[39m\u001b[38;5;28mid\u001b[39m)\n\u001b[1;32m     15\u001b[0m points_df \u001b[38;5;241m=\u001b[39m spark\u001b[38;5;241m.\u001b[39msql(sql)\n\u001b[0;32m---> 16\u001b[0m \u001b[38;5;28mprint\u001b[39m(\u001b[38;5;28mlen\u001b[39m(\u001b[43mDataFrame\u001b[49m))\n\u001b[1;32m     17\u001b[0m points_df\u001b[38;5;241m.\u001b[39mshow()\n",
      "\u001b[0;31mNameError\u001b[0m: name 'DataFrame' is not defined"
     ]
    }
   ],
   "source": [
    "id = 1\n",
    "sql = \"\"\"\n",
    "SELECT lon, lat\n",
    "FROM (\n",
    "\tSELECT lon, lat\n",
    "\tFROM time_series\n",
    "\tWHERE EXISTS (\n",
    "\t\tSELECT *\n",
    "\t\tFROM job\n",
    "\t\tWHERE job.id = {id}\n",
    "\t\t\tAND time_series.time BETWEEN job.start_time AND job.end_time\n",
    "\t)\n",
    ") time_series;\n",
    "\"\"\".format(id=id)\n",
    "points_df = spark.sql(sql)\n",
    "print(len(DataFrame))\n",
    "points_df.show()\n"
   ]
  },
  {
   "cell_type": "code",
   "execution_count": null,
   "id": "4ca1668a",
   "metadata": {},
   "outputs": [],
   "source": [
    "# https://ncar.github.io/PySpark4Climate/tutorials/pyspark-geo-analysis/geopandas-and-spark/#Load-Data-in-a-GeoDataFrame\n",
    "# 创建GeoDataFrame\n",
    "\n",
    "lon_list = points_df.select(\"lon\").rdd.flatMap(lambda x: x).collect()\n",
    "lat_list = points_df.select(\"lat\").rdd.flatMap(lambda x: x).collect()\n",
    "import geopandas as gpd\n",
    "from shapely.geometry import Point\n",
    "from shapely.geometry import LineString\n",
    "\n",
    "# 创建几何对象\n",
    "geometry = [Point(xy) for xy in zip(lon_list,lat_list)]\n",
    "\n",
    "# 创建Geopandas的GeoDataFrame\n",
    "gdf = gpd.GeoDataFrame(geometry=geometry)\n",
    "\n",
    "gdf.show()\n",
    "\n",
    "# # 创建曲线\n",
    "# gdf['curve'] =gdf['geometry'].apply(lambda geom: LineString(geom.coords))\n",
    "\n",
    "# # 删除重复的曲线\n",
    "# gdf = gdf.drop_duplicates(subset=['group_column', 'curve'])\n",
    "\n",
    "# # 将GeoDataFrame的几何列转换为WKT格式的字符串\n",
    "# gdf['curve_wkt'] = gdf['curve'].apply(lambda x: x.wkt)\n",
    "\n",
    "# print(gdf['curve_wkt'])\n"
   ]
  },
  {
   "cell_type": "code",
   "execution_count": null,
   "id": "da36b2c2",
   "metadata": {},
   "outputs": [],
   "source": [
    "from shapely.geometry import LineString\n",
    "\n",
    "print(f\"LineString contains {len(gdf['geometry'].tolist())} points.\")\n",
    "linestring = LineString(gdf['geometry'].tolist())\n"
   ]
  },
  {
   "cell_type": "code",
   "execution_count": null,
   "id": "97eb8f4a",
   "metadata": {
    "scrolled": true
   },
   "outputs": [],
   "source": [
    "sql = \"\"\"\n",
    "INSERT INTO gisdb.output (job_id, geoms)\n",
    "VALUES (1, ST_GeomFromText('{linestring}', 4326));\n",
    "\"\"\".format(linestring=linestring)\n",
    "print(sql)"
   ]
  },
  {
   "cell_type": "code",
   "execution_count": null,
   "metadata": {},
   "outputs": [],
   "source": []
  }
 ],
 "metadata": {
  "kernelspec": {
   "display_name": "Python 3",
   "language": "python",
   "name": "python3"
  },
  "language_info": {
   "codemirror_mode": {
    "name": "ipython",
    "version": 3
   },
   "file_extension": ".py",
   "mimetype": "text/x-python",
   "name": "python",
   "nbconvert_exporter": "python",
   "pygments_lexer": "ipython3",
   "version": "3.8.10"
  }
 },
 "nbformat": 4,
 "nbformat_minor": 5
}
