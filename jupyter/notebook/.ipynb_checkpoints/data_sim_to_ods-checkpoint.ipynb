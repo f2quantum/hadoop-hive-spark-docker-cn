{
 "cells": [
  {
   "cell_type": "code",
   "execution_count": null,
   "metadata": {},
   "outputs": [],
   "source": [
    "import findspark\n",
    "findspark.init('/opt/spark')\n",
    "from pyspark.sql import SparkSession\n",
    "\n",
    "spark = SparkSession.builder \\\n",
    "    .appName(\"Data-Importer\") \\\n",
    "    .enableHiveSupport() \\\n",
    "    .getOrCreate()\n",
    "\n",
    "spark.sql(\"set hive.exec.dynamici.partition=true;\")\n",
    "spark.sql(\"set hive.exec.dynamic.partition.mode=nonstrict;\")\n",
    "\n",
    "# 源数据 => ODS\n",
    "print(\"ODS init spark content successful\")"
   ]
  },
  {
   "cell_type": "code",
   "execution_count": null,
   "metadata": {},
   "outputs": [],
   "source": [
    "# create database time_series\n",
    "spark.sql(\"DROP TABLE IF EXISTS ods_time_series;\")\n",
    "spark.sql(\"CREATE TABLE IF NOT EXISTS ods_time_series\\\n",
    "         (id bigint,\\\n",
    "          time TIMESTAMP,\\\n",
    "          lon float,\\\n",
    "          lat float)\\\n",
    "ROW FORMAT DELIMITED\\\n",
    "STORED AS PARQUET\\\n",
    ";\")\n",
    "\n",
    "# create database job\n",
    "spark.sql(\"DROP TABLE IF EXISTS ods_job;\")\n",
    "spark.sql(\"CREATE TABLE IF NOT EXISTS job\\\n",
    "(id bigint,start_time TIMESTAMP,end_time TIMESTAMP);\")\n",
    "\n",
    "# 创建输出表\n",
    "#CREATE TABLE output(id SERIAL PRIMARY KEY,job_id int4);\n",
    "\n",
    "print(\"Init ods ods_time_series ,ods_job  Success\")"
   ]
  },
  {
   "cell_type": "code",
   "execution_count": null,
   "metadata": {},
   "outputs": [],
   "source": [
    "# 读入临时表\n",
    "\n",
    "spark.sql(\"DROP TABLE IF EXISTS ods_time_series_external;\")\n",
    "spark.sql(\"CREATE TABLE IF NOT EXISTS ods_time_series\\\n",
    "          (id string,\\\n",
    "          time string,\\\n",
    "          lon string,\\\n",
    "          lat string,\\\n",
    "        ROW FORMAT DELIMITED\\\n",
    "        FIELDS TERMINATED BY ',';\")\n",
    "    \n",
    "sql = f\"load data local inpath './data/time_series.csv' into table time_series_external ;\"\n",
    "print(sql)\n",
    "spark.sql(sql)\n",
    "\n",
    "# 查看一条数据\n",
    "result = spark.sql(\"SELECT * FROM time_series_external LIMIT 1\")\n",
    "result.show()\n",
    "    "
   ]
  },
  {
   "cell_type": "code",
   "execution_count": null,
   "metadata": {},
   "outputs": [],
   "source": []
  }
 ],
 "metadata": {
  "kernelspec": {
   "display_name": "Python 3",
   "language": "python",
   "name": "python3"
  },
  "language_info": {
   "codemirror_mode": {
    "name": "ipython",
    "version": 3
   },
   "file_extension": ".py",
   "mimetype": "text/x-python",
   "name": "python",
   "nbconvert_exporter": "python",
   "pygments_lexer": "ipython3",
   "version": "3.8.10"
  }
 },
 "nbformat": 4,
 "nbformat_minor": 2
}
