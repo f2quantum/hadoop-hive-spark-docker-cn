{
 "cells": [
  {
   "cell_type": "code",
   "execution_count": 1,
   "id": "a6aafd66-6af7-4cc0-9126-105c62d5bb08",
   "metadata": {},
   "outputs": [
    {
     "data": {
      "text/plain": [
       "DataFrame[key: string, value: string]"
      ]
     },
     "execution_count": 1,
     "metadata": {},
     "output_type": "execute_result"
    }
   ],
   "source": [
    "import findspark\n",
    "findspark.init('/opt/spark')\n",
    "from pyspark.sql import SparkSession\n",
    "\n",
    "spark = SparkSession.builder \\\n",
    "    .appName(\"Data-Importer\") \\\n",
    "    .enableHiveSupport() \\\n",
    "    .getOrCreate()\n",
    "\n",
    "spark.sql(\"set hive.exec.dynamici.partition=true;\")\n",
    "spark.sql(\"set hive.exec.dynamic.partition.mode=nonstrict;\")\n"
   ]
  },
  {
   "cell_type": "code",
   "execution_count": 2,
   "id": "7bfd9f13-48bf-406f-9b9d-fad917c5d342",
   "metadata": {},
   "outputs": [
    {
     "data": {
      "text/plain": [
       "DataFrame[]"
      ]
     },
     "execution_count": 2,
     "metadata": {},
     "output_type": "execute_result"
    }
   ],
   "source": [
    "# create database time_series\n",
    "spark.sql(\"DROP TABLE IF EXISTS time_series;\")\n",
    "spark.sql(\"CREATE TABLE IF NOT EXISTS time_series\\\n",
    "         (id bigint,\\\n",
    "          time TIMESTAMP,\\\n",
    "          lon float,\\\n",
    "          lat float)\\\n",
    "PARTITIONED BY(area int)\\\n",
    "ROW FORMAT DELIMITED\\\n",
    "STORED AS PARQUET\\\n",
    ";\")\n",
    "\n",
    "# create database job\n",
    "spark.sql(\"DROP TABLE IF EXISTS job;\")\n",
    "spark.sql(\"CREATE TABLE IF NOT EXISTS job\\\n",
    "(id bigint,start_time TIMESTAMP,end_time TIMESTAMP);\")\n",
    "\n",
    "# 创建输出表\n",
    "#CREATE TABLE output(id SERIAL PRIMARY KEY,job_id int4);\n"
   ]
  },
  {
   "cell_type": "code",
   "execution_count": 3,
   "id": "ac63cf75-2c83-42a0-a9d1-989528e3ac5c",
   "metadata": {},
   "outputs": [],
   "source": [
    "import csv\n",
    "import random\n",
    "import datetime\n",
    "import random\n",
    "import uuid\n",
    "import time"
   ]
  },
  {
   "cell_type": "code",
   "execution_count": 4,
   "id": "d6d64189-45d4-47e8-acbc-e9f0bdde1028",
   "metadata": {},
   "outputs": [
    {
     "name": "stdout",
     "output_type": "stream",
     "text": [
      "Generate 1000000 rows data\n"
     ]
    }
   ],
   "source": [
    "\n",
    "\n",
    "num_points=1000000\n",
    "partition_nums = 10\n",
    "\n",
    "def generate_id():\n",
    "    start_num = [110,111,112,113,114,115,116,117,118,119,120]\n",
    "    random_pn = random.randrange(0, len(start_num))\n",
    "    random_num = str(random.randint(0, 99999999))\n",
    "    id = \"{}{:0<8}\".format(start_num[random_pn], random_num)\n",
    "    return id\n",
    "\n",
    "\n",
    "def generate_utc():\n",
    "    current_time = datetime.datetime.now()\n",
    "    # utc = current_time.strftime(\"%Y-%m-%d %H:%M:%S\")\n",
    "    return int(round(current_time.timestamp()))\n",
    "\n",
    "    \n",
    "def generate_coordinates():\n",
    "    longitude=round(random.uniform(130, 140), 7)\n",
    "    latitude = round(random.uniform(45, 50), 7)\n",
    "    return longitude,latitude\n",
    "\n",
    "\n",
    "def get_area():\n",
    "    return random.randint(0, partition_nums-1)\n",
    "\n",
    "# 单条SQL 废弃\n",
    "# for _ in range(num_points):\n",
    "#     id=generate_id()\n",
    "#     utc=generate_utc()\n",
    "#     lon,lat=generate_coordinates()\n",
    "#     area = get_area()\n",
    "#     sql = f'''INSERT INTO time_series  \\\n",
    "#     PARTITION (area={area})\\\n",
    "#     VALUES ({id},cast({utc} as timestamp), {lon}, {lat});\\n'''\\\n",
    "#     .format(id=id).format(utc=utc).format(lon = lon).format(lat = lat).format(area = area)\n",
    "#     spark.sql(sql)\n",
    "\n",
    "# 生成csv文件\n",
    "\n",
    "# 初始化10个writer\n",
    "\n",
    "csv_writers = []\n",
    "\n",
    "file = open(f'./data/area.csv','w',newline=\"\") \n",
    "writer = csv.writer(file)\n",
    "    \n",
    "for _ in range(num_points):\n",
    "    id=generate_id()\n",
    "    utc=generate_utc()\n",
    "    lon,lat=generate_coordinates()\n",
    "    area = get_area()\n",
    "    writer.writerow([id,utc,lon,lat,area])\n",
    "\n",
    "print(f\"Generate {num_points} rows data\")\n"
   ]
  },
  {
   "cell_type": "code",
   "execution_count": 5,
   "metadata": {},
   "outputs": [
    {
     "name": "stdout",
     "output_type": "stream",
     "text": [
      "load data local inpath './data/area.csv' into table time_series_external ;\n",
      "+-----------+----------+-----------+----------+----+\n",
      "|         id|      time|        lon|       lat|area|\n",
      "+-----------+----------+-----------+----------+----+\n",
      "|11226318098|1708963788|138.6013904|47.5320286|   4|\n",
      "+-----------+----------+-----------+----------+----+\n",
      "\n"
     ]
    }
   ],
   "source": [
    "spark.sql(\"DROP TABLE IF EXISTS time_series_external;\")\n",
    "spark.sql(\"CREATE TABLE IF NOT EXISTS time_series_external\\\n",
    "          (id string,\\\n",
    "          time string,\\\n",
    "          lon string,\\\n",
    "          lat string,\\\n",
    "          area string)\\\n",
    "        ROW FORMAT DELIMITED\\\n",
    "        FIELDS TERMINATED BY ',';\")\n",
    "    \n",
    "sql = f\"load data local inpath './data/area.csv' into table time_series_external ;\"\n",
    "print(sql)\n",
    "spark.sql(sql)\n",
    "\n",
    "# 查看一条数据\n",
    "result = spark.sql(\"SELECT * FROM time_series_external LIMIT 1\")\n",
    "result.show()\n",
    "    "
   ]
  },
  {
   "cell_type": "code",
   "execution_count": 6,
   "metadata": {},
   "outputs": [
    {
     "name": "stdout",
     "output_type": "stream",
     "text": [
      "\n",
      "SELECT\n",
      " cast(id as bigint) as id,\n",
      " cast(cast(time as int) as timestamp) as time,\n",
      " cast(lon as float) as lon,\n",
      " cast(lat as float) as lat,\n",
      " cast(area as int) as area\n",
      "FROM time_series_external;\n",
      "\n",
      "+-----------+-------------------+---------+---------+----+\n",
      "|         id|               time|      lon|      lat|area|\n",
      "+-----------+-------------------+---------+---------+----+\n",
      "|11226318098|2024-02-26 16:09:48| 138.6014| 47.53203|   4|\n",
      "|11079170147|2024-02-26 16:09:48|131.38918|49.177216|   5|\n",
      "|11484559578|2024-02-26 16:09:48|130.19557|47.459663|   8|\n",
      "|11816332695|2024-02-26 16:09:48|131.74095| 45.61495|   3|\n",
      "|11216044879|2024-02-26 16:09:48| 135.5531| 47.22836|   5|\n",
      "|11876125847|2024-02-26 16:09:48|131.17789|45.085922|   1|\n",
      "|11940353303|2024-02-26 16:09:48| 137.9385|  48.9933|   9|\n",
      "|11443084087|2024-02-26 16:09:48|130.43713|48.770252|   1|\n",
      "|11214990334|2024-02-26 16:09:48|138.10158|49.120865|   2|\n",
      "|11688093238|2024-02-26 16:09:48|137.89381|46.425632|   8|\n",
      "|12082104585|2024-02-26 16:09:48|139.02649|46.075886|   6|\n",
      "|11413735559|2024-02-26 16:09:48|134.72487|49.175903|   8|\n",
      "|11531323609|2024-02-26 16:09:48|133.21303|48.589687|   6|\n",
      "|11816424597|2024-02-26 16:09:48|134.42622|49.841515|   2|\n",
      "|11983321483|2024-02-26 16:09:48|136.68536| 46.32456|   7|\n",
      "|11825067057|2024-02-26 16:09:48|138.19254|  45.7442|   7|\n",
      "|11537590803|2024-02-26 16:09:48|136.43675| 47.09099|   6|\n",
      "|12067811201|2024-02-26 16:09:48| 130.9565| 49.60392|   2|\n",
      "|11833345136|2024-02-26 16:09:48| 133.4132|46.267418|   6|\n",
      "|11268428725|2024-02-26 16:09:48|132.42873| 45.68726|   6|\n",
      "+-----------+-------------------+---------+---------+----+\n",
      "only showing top 20 rows\n",
      "\n"
     ]
    }
   ],
   "source": [
    "sql = '''\n",
    "SELECT\n",
    " cast(id as bigint) as id,\n",
    " cast(cast(time as int) as timestamp) as time,\n",
    " cast(lon as float) as lon,\n",
    " cast(lat as float) as lat,\n",
    " cast(area as int) as area\n",
    "FROM time_series_external;\n",
    "'''\n",
    "print(sql)\n",
    "result = spark.sql(sql)\n",
    "result.show()\n"
   ]
  },
  {
   "cell_type": "code",
   "execution_count": 7,
   "metadata": {},
   "outputs": [
    {
     "name": "stdout",
     "output_type": "stream",
     "text": [
      "\n",
      "INSERT INTO time_series partition(area)\n",
      "SELECT\n",
      " cast(id as bigint) as id,\n",
      " cast(cast(time as int) as timestamp) as time,\n",
      " cast(lon as float) as lon,\n",
      " cast(lat as float) as lat,\n",
      " cast(area as int) as area\n",
      "FROM time_series_external;\n",
      "\n",
      "++\n",
      "||\n",
      "++\n",
      "++\n",
      "\n",
      "+-----------+-------------------+---------+--------+----+\n",
      "|         id|               time|      lon|     lat|area|\n",
      "+-----------+-------------------+---------+--------+----+\n",
      "|11390684443|2024-02-26 16:09:53|134.94762|49.55374|   7|\n",
      "+-----------+-------------------+---------+--------+----+\n",
      "\n"
     ]
    }
   ],
   "source": [
    "# external => main \n",
    "\n",
    "# see https://stackoverflow.com/questions/62607279/how-to-load-a-csv-file-containing-time-string-value-to-timestamp-in-hive\n",
    "\n",
    "sql = '''\n",
    "INSERT INTO time_series partition(area)\n",
    "SELECT\n",
    " cast(id as bigint) as id,\n",
    " cast(cast(time as int) as timestamp) as time,\n",
    " cast(lon as float) as lon,\n",
    " cast(lat as float) as lat,\n",
    " cast(area as int) as area\n",
    "FROM time_series_external;\n",
    "'''\n",
    "print(sql)\n",
    "result = spark.sql(sql)\n",
    "result.show()\n",
    "\n",
    "# 查看一条数据\n",
    "result = spark.sql(\"SELECT * FROM time_series LIMIT 1\")\n",
    "result.show()\n"
   ]
  },
  {
   "cell_type": "code",
   "execution_count": 8,
   "id": "0ef2cd98-b0e0-4565-9605-9f2965d0c402",
   "metadata": {},
   "outputs": [
    {
     "name": "stdout",
     "output_type": "stream",
     "text": [
      "INSERT INTO job (id, start_time, end_time) VALUES (1, cast(1641031200 as timestamp), cast(1735725600 as timestamp));\n"
     ]
    },
    {
     "data": {
      "text/plain": [
       "DataFrame[]"
      ]
     },
     "execution_count": 8,
     "metadata": {},
     "output_type": "execute_result"
    }
   ],
   "source": [
    "# 插入 job 表数据\n",
    "def generate_utc_start():\n",
    "    date_string = \"2022-01-01 10:00:00\"\n",
    "    timestamp = time.strptime(date_string, \"%Y-%m-%d %H:%M:%S\")\n",
    "    return int(time.mktime(timestamp))\n",
    "\n",
    "\n",
    "def generate_utc_end():\n",
    "    date_string = \"2025-01-01 10:00:00\"\n",
    "    timestamp = time.strptime(date_string, \"%Y-%m-%d %H:%M:%S\")\n",
    "    return int(time.mktime(timestamp))\n",
    "\n",
    "utc_st = generate_utc_start()\n",
    "utc_end = generate_utc_end()\n",
    "sql = f\"INSERT INTO job (id, start_time, end_time) VALUES (1, cast({utc_st} as timestamp), cast({utc_end} as timestamp));\"\n",
    "print(sql)\n",
    "spark.sql(sql)\n"
   ]
  },
  {
   "cell_type": "code",
   "execution_count": null,
   "id": "825c5e9d-50c4-46c2-867e-4dfff857c3e3",
   "metadata": {},
   "outputs": [],
   "source": []
  },
  {
   "cell_type": "code",
   "execution_count": 9,
   "id": "12dc5c67-d48f-441e-b247-d7c0ac3768b7",
   "metadata": {},
   "outputs": [
    {
     "name": "stdout",
     "output_type": "stream",
     "text": [
      "+------+\n",
      "|   cnt|\n",
      "+------+\n",
      "|999947|\n",
      "+------+\n",
      "\n"
     ]
    }
   ],
   "source": [
    "# 查看数据量\n",
    "result = spark.sql(\"SELECT COUNT(*) as cnt FROM time_series\")\n",
    "result.show()"
   ]
  },
  {
   "cell_type": "code",
   "execution_count": 10,
   "id": "f0a311b7-37b5-4385-8f02-057c921dbd71",
   "metadata": {},
   "outputs": [
    {
     "name": "stdout",
     "output_type": "stream",
     "text": [
      "+-----------+-------------------+---------+---------+----+\n",
      "|         id|               time|      lon|      lat|area|\n",
      "+-----------+-------------------+---------+---------+----+\n",
      "|11831013073|2024-02-26 16:09:48|136.19029|47.386803|   0|\n",
      "+-----------+-------------------+---------+---------+----+\n",
      "\n"
     ]
    }
   ],
   "source": [
    "# 查看一条数据\n",
    "result = spark.sql(\"SELECT * FROM time_series LIMIT 1\")\n",
    "result.show()"
   ]
  },
  {
   "cell_type": "code",
   "execution_count": 12,
   "id": "71999b06-187e-4add-9667-d1edacc4a06e",
   "metadata": {},
   "outputs": [
    {
     "name": "stdout",
     "output_type": "stream",
     "text": [
      "+---------+\n",
      "|partition|\n",
      "+---------+\n",
      "|   area=0|\n",
      "|   area=1|\n",
      "|   area=2|\n",
      "|   area=3|\n",
      "|   area=4|\n",
      "|   area=5|\n",
      "|   area=6|\n",
      "|   area=7|\n",
      "|   area=8|\n",
      "|   area=9|\n",
      "+---------+\n",
      "\n"
     ]
    }
   ],
   "source": [
    "# 查看分区数目\n",
    "result = spark.sql(\"SHOW PARTITIONS time_series;\")\n",
    "result.show()"
   ]
  },
  {
   "cell_type": "code",
   "execution_count": null,
   "id": "5d4cee32-3475-4024-b93f-8eb2da733982",
   "metadata": {},
   "outputs": [],
   "source": []
  }
 ],
 "metadata": {
  "kernelspec": {
   "display_name": "Python 3",
   "language": "python",
   "name": "python3"
  },
  "language_info": {
   "codemirror_mode": {
    "name": "ipython",
    "version": 3
   },
   "file_extension": ".py",
   "mimetype": "text/x-python",
   "name": "python",
   "nbconvert_exporter": "python",
   "pygments_lexer": "ipython3",
   "version": "3.8.10"
  }
 },
 "nbformat": 4,
 "nbformat_minor": 5
}
