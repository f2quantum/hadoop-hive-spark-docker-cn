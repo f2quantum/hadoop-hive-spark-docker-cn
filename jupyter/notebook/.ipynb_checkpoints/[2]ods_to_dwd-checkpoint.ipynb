{
 "cells": [
  {
   "cell_type": "code",
   "execution_count": null,
   "metadata": {},
   "outputs": [],
   "source": [
    "# ods -> dwd 层： 执行数据清洗任务\n",
    "import findspark\n",
    "findspark.init('/opt/spark')\n",
    "from pyspark.sql import SparkSession\n",
    "\n",
    "spark = SparkSession.builder \\\n",
    "    .appName(\"ods_to_dwd\") \\\n",
    "    .enableHiveSupport() \\\n",
    "    .getOrCreate()\n",
    "\n",
    "spark.sql(\"set hive.exec.dynamici.partition=true;\")\n",
    "spark.sql(\"set hive.exec.dynamic.partition.mode=nonstrict;\")\n",
    "\n",
    "print(\"DWD init spark content successful\")"
   ]
  },
  {
   "cell_type": "code",
   "execution_count": null,
   "metadata": {},
   "outputs": [],
   "source": [
    "# create database time_series\n",
    "spark.sql(\"DROP TABLE IF EXISTS dwd_time_series;\")\n",
    "sql = \"\"\"\n",
    "CREATE TABLE IF NOT EXISTS dwd_time_series\n",
    "(id bigint,\n",
    "time TIMESTAMP,\n",
    "lon float,\n",
    "lat float)\n",
    "PARTITIONED BY(yearMonth string)\n",
    "STORED AS PARQUET;\n",
    "\"\"\"\n",
    "spark.sql(sql)\n",
    "\n",
    "# create database job\n",
    "spark.sql(\"DROP TABLE IF EXISTS dwd_job;\")\n",
    "sql = \"\"\"\n",
    "CREATE TABLE IF NOT EXISTS dwd_job\n",
    "(id bigint,start_time TIMESTAMP,end_time TIMESTAMP)\n",
    "PARTITIONED BY(yearMonth string)\n",
    "STORED AS PARQUET;\n",
    "\"\"\"\n",
    "spark.sql(sql)\n",
    "\n",
    "# 创建输出表\n",
    "#CREATE TABLE output(id SERIAL PRIMARY KEY,job_id int4);\n",
    "\n",
    "print(\"Init dwd dwd_time_series ,dwd_job  Success\")"
   ]
  },
  {
   "cell_type": "code",
   "execution_count": null,
   "metadata": {},
   "outputs": [],
   "source": [
    "# ODS 表写入DWD 表 dwd_job\n",
    "\n",
    "\n",
    "sql = '''\n",
    "INSERT INTO dwd_job partition(yearMonth)\n",
    "SELECT\n",
    " id as id,\n",
    " start_time as start_time,\n",
    " end_time as end_time,\n",
    " date_format(start_time,'yyyyMM') as yearMonth\n",
    " FROM ods_job;\n",
    "'''\n",
    "print(sql)\n",
    "result = spark.sql(sql)\n",
    "\n",
    "# 查看一条数据\n",
    "result = spark.sql(\"SELECT * FROM dwd_job LIMIT 1\")\n",
    "result.show()"
   ]
  },
  {
   "cell_type": "code",
   "execution_count": null,
   "metadata": {},
   "outputs": [],
   "source": [
    "# ODS 表写入DWD 表 dwd_time_series\n",
    "\n",
    "\n",
    "sql = '''\n",
    "INSERT INTO dwd_time_series partition(yearMonth)\n",
    "SELECT\n",
    " id as id,\n",
    " time as time,\n",
    " lon as lon,\n",
    " lat as lat,\n",
    " date_format(time,'yyyyMM') as yearMonth\n",
    " FROM ods_time_series;\n",
    "'''\n",
    "print(sql)\n",
    "result = spark.sql(sql)\n",
    "\n",
    "# 查看一条数据\n",
    "result = spark.sql(\"SELECT * FROM dwd_time_series LIMIT 1\")\n",
    "result.show()"
   ]
  },
  {
   "cell_type": "code",
   "execution_count": null,
   "metadata": {},
   "outputs": [],
   "source": [
    "# 查看分区数目\n",
    "result = spark.sql(\"SHOW PARTITIONS dwd_time_series;\")\n",
    "result.show()"
   ]
  },
  {
   "cell_type": "code",
   "execution_count": null,
   "metadata": {},
   "outputs": [],
   "source": [
    "# 查看分区数目\n",
    "result = spark.sql(\"select date_format(time,'yyyyMM') from dwd_time_series ;\")\n",
    "result.show()"
   ]
  }
 ],
 "metadata": {
  "kernelspec": {
   "display_name": "Python 3",
   "language": "python",
   "name": "python3"
  },
  "language_info": {
   "codemirror_mode": {
    "name": "ipython",
    "version": 3
   },
   "file_extension": ".py",
   "mimetype": "text/x-python",
   "name": "python",
   "nbconvert_exporter": "python",
   "pygments_lexer": "ipython3",
   "version": "3.8.10"
  }
 },
 "nbformat": 4,
 "nbformat_minor": 2
}
