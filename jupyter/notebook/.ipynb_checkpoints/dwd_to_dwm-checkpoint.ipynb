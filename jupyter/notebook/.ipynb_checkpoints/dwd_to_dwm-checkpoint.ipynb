{
 "cells": [
  {
   "cell_type": "code",
   "execution_count": null,
   "metadata": {},
   "outputs": [],
   "source": [
    "# 基于空间索引 给时序数据area打标\n",
    "import findspark\n",
    "findspark.init('/opt/spark')\n",
    "from pyspark.sql import SparkSession\n",
    "\n",
    "spark = SparkSession.builder \\\n",
    "    .appName(\"dwd_to_dwm\") \\\n",
    "    .enableHiveSupport() \\\n",
    "    .getOrCreate()\n",
    "\n",
    "spark.sql(\"set hive.exec.dynamici.partition=true;\")\n",
    "spark.sql(\"set hive.exec.dynamic.partition.mode=nonstrict;\")\n"
   ]
  },
  {
   "cell_type": "code",
   "execution_count": null,
   "metadata": {},
   "outputs": [],
   "source": [
    "# create database time_series\n",
    "spark.sql(\"DROP TABLE IF EXISTS dwm_time_series;\")\n",
    "spark.sql(\"CREATE TABLE IF NOT EXISTS dwm_time_series\\\n",
    "         (id bigint,\\\n",
    "          time TIMESTAMP,\\\n",
    "          lon float,\\\n",
    "          lat float)\\\n",
    "PARTITIONED BY(area int)\\\n",
    "ROW FORMAT DELIMITED\\\n",
    "STORED AS PARQUET\\\n",
    ";\")\n",
    "\n",
    "# create database job\n",
    "spark.sql(\"DROP TABLE IF EXISTS dwm_job;\")\n",
    "sql = \"\"\"\n",
    "\n",
    "CREATE TABLE IF NOT EXISTS dwm_job\n",
    "(id bigint,start_time TIMESTAMP,end_time TIMESTAMP)\n",
    "PARTITIONED BY(yearMonth string)\n",
    "STORED AS PARQUET;\n",
    "\n",
    "\"\"\"\n",
    "spark.sql(\"sql\")\n",
    "\n",
    "# 创建输出表\n",
    "#CREATE TABLE output(id SERIAL PRIMARY KEY,job_id int4);\n"
   ]
  },
  {
   "cell_type": "code",
   "execution_count": null,
   "metadata": {},
   "outputs": [],
   "source": [
    "# 加载时序表\n",
    "\n"
   ]
  },
  {
   "cell_type": "code",
   "execution_count": null,
   "metadata": {},
   "outputs": [],
   "source": [
    "# 加载job 表=> \n",
    "\n",
    "sql = '''\n",
    "INSERT INTO dwm_job partition(yearMonth)\n",
    "SELECT\n",
    " id as id,\n",
    " time as time,\n",
    " lon as lon,\n",
    " lat as lat,\n",
    " yearMonth as yearMonth\n",
    " FROM dwd_job;\n",
    "'''\n",
    "print(sql)\n",
    "result = spark.sql(sql)\n",
    "\n",
    "# 查看一条数据\n",
    "result = spark.sql(\"SELECT * FROM dwd_job LIMIT 1\")\n",
    "result.show()\n"
   ]
  }
 ],
 "metadata": {
  "kernelspec": {
   "display_name": "Python 3",
   "language": "python",
   "name": "python3"
  },
  "language_info": {
   "codemirror_mode": {
    "name": "ipython",
    "version": 3
   },
   "file_extension": ".py",
   "mimetype": "text/x-python",
   "name": "python",
   "nbconvert_exporter": "python",
   "pygments_lexer": "ipython3",
   "version": "3.8.10"
  }
 },
 "nbformat": 4,
 "nbformat_minor": 2
}
