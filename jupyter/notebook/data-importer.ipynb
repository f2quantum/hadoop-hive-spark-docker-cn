{
 "cells": [
  {
   "cell_type": "code",
   "execution_count": 1,
   "id": "a6aafd66-6af7-4cc0-9126-105c62d5bb08",
   "metadata": {},
   "outputs": [
    {
     "name": "stderr",
     "output_type": "stream",
     "text": [
      "Setting default log level to \"WARN\".\n",
      "To adjust logging level use sc.setLogLevel(newLevel). For SparkR, use setLogLevel(newLevel).\n"
     ]
    }
   ],
   "source": [
    "import findspark\n",
    "findspark.init('/opt/spark')\n",
    "from pyspark.sql import SparkSession\n",
    "\n",
    "spark = SparkSession.builder \\\n",
    "    .appName(\"Data-Importer\") \\\n",
    "    .enableHiveSupport() \\\n",
    "    .getOrCreate()\n"
   ]
  },
  {
   "cell_type": "code",
   "execution_count": 2,
   "id": "7bfd9f13-48bf-406f-9b9d-fad917c5d342",
   "metadata": {},
   "outputs": [
    {
     "name": "stdout",
     "output_type": "stream",
     "text": [
      "24/02/06 12:33:18 WARN ResolveSessionCatalog: A Hive serde table will be created as there is no table provider specified. You can set spark.sql.legacy.createHiveTableByDefault to false so that native data source table will be created instead.\n"
     ]
    },
    {
     "data": {
      "text/plain": [
       "DataFrame[]"
      ]
     },
     "execution_count": 2,
     "metadata": {},
     "output_type": "execute_result"
    }
   ],
   "source": [
    "# create database time_series\n",
    "spark.sql(\"DROP TABLE IF EXISTS time_series;\")\n",
    "spark.sql(\"CREATE TABLE IF NOT EXISTS time_series\\\n",
    "(id bigint,time TIMESTAMP,lon float,lat float)\\\n",
    "PARTITIONED BY(area int)\\\n",
    "ROW FORMAT DELIMITED\\\n",
    ";\")\n",
    "\n",
    "# create database job\n",
    "spark.sql(\"DROP TABLE IF EXISTS job;\")\n",
    "spark.sql(\"CREATE TABLE IF NOT EXISTS job\\\n",
    "(id bigint,start_time TIMESTAMP,end_time TIMESTAMP);\")\n",
    "\n",
    "# 创建输出表\n",
    "CREATE TABLE output(id SERIAL PRIMARY KEY,job_id int4);\n"
   ]
  },
  {
   "cell_type": "code",
   "execution_count": 3,
   "id": "ac63cf75-2c83-42a0-a9d1-989528e3ac5c",
   "metadata": {},
   "outputs": [],
   "source": [
    "import csv\n",
    "import random\n",
    "import datetime\n",
    "import random\n",
    "import uuid\n",
    "import time"
   ]
  },
  {
   "cell_type": "code",
   "execution_count": 4,
   "id": "d6d64189-45d4-47e8-acbc-e9f0bdde1028",
   "metadata": {},
   "outputs": [
    {
     "name": "stderr",
     "output_type": "stream",
     "text": [
      "                                                                                \r"
     ]
    },
    {
     "name": "stdout",
     "output_type": "stream",
     "text": [
      "Insert 100 rows data\n"
     ]
    }
   ],
   "source": [
    "\n",
    "\n",
    "num_points=100\n",
    "\n",
    "def generate_id():\n",
    "    start_num = [110,111,112,113,114,115,116,117,118,119,120]\n",
    "    random_pn = random.randrange(0, len(start_num))\n",
    "    random_num = str(random.randint(0, 99999999))\n",
    "    id = \"{}{:0<8}\".format(start_num[random_pn], random_num)\n",
    "    return id\n",
    "\n",
    "\n",
    "def generate_utc():\n",
    "    current_time = datetime.datetime.now()\n",
    "    # utc = current_time.strftime(\"%Y-%m-%d %H:%M:%S\")\n",
    "    return int(round(current_time.timestamp()))\n",
    "\n",
    "    \n",
    "def generate_coordinates():\n",
    "    longitude=round(random.uniform(130, 140), 7)\n",
    "    latitude = round(random.uniform(45, 50), 7)\n",
    "    return longitude,latitude\n",
    "\n",
    "\n",
    "def get_area():\n",
    "    return random.randint(0, 10)\n",
    "\n",
    "for _ in range(num_points):\n",
    "    id=generate_id()\n",
    "    utc=generate_utc()\n",
    "    lon,lat=generate_coordinates()\n",
    "    area = get_area()\n",
    "    sql = f'''INSERT INTO time_series  \\\n",
    "    PARTITION (area={area})\\\n",
    "    VALUES ({id},cast({utc} as timestamp), {lon}, {lat});\\n'''\\\n",
    "    .format(id=id).format(utc=utc).format(lon = lon).format(lat = lat).format(area = area)\n",
    "    spark.sql(sql)\n",
    "print(f\"Insert {num_points} rows data\")\n"
   ]
  },
  {
   "cell_type": "code",
   "execution_count": 13,
   "id": "0ef2cd98-b0e0-4565-9605-9f2965d0c402",
   "metadata": {},
   "outputs": [
    {
     "name": "stdout",
     "output_type": "stream",
     "text": [
      "INSERT INTO job (id, start_time, end_time) VALUES (1, cast(1641031200 as timestamp), cast(1735725600 as timestamp));\n"
     ]
    },
    {
     "data": {
      "text/plain": [
       "DataFrame[]"
      ]
     },
     "execution_count": 13,
     "metadata": {},
     "output_type": "execute_result"
    }
   ],
   "source": [
    "# 插入 job 表数据\n",
    "def generate_utc_start():\n",
    "    date_string = \"2022-01-01 10:00:00\"\n",
    "    timestamp = time.strptime(date_string, \"%Y-%m-%d %H:%M:%S\")\n",
    "    return int(time.mktime(timestamp))\n",
    "\n",
    "\n",
    "def generate_utc_end():\n",
    "    date_string = \"2025-01-01 10:00:00\"\n",
    "    timestamp = time.strptime(date_string, \"%Y-%m-%d %H:%M:%S\")\n",
    "    return int(time.mktime(timestamp))\n",
    "\n",
    "utc_st = generate_utc_start()\n",
    "utc_end = generate_utc_end()\n",
    "sql = f\"INSERT INTO job (id, start_time, end_time) VALUES (1, cast({utc_st} as timestamp), cast({utc_end} as timestamp));\"\n",
    "print(sql)\n",
    "spark.sql(sql)\n"
   ]
  },
  {
   "cell_type": "code",
   "execution_count": null,
   "id": "825c5e9d-50c4-46c2-867e-4dfff857c3e3",
   "metadata": {},
   "outputs": [],
   "source": []
  },
  {
   "cell_type": "code",
   "execution_count": 5,
   "id": "12dc5c67-d48f-441e-b247-d7c0ac3768b7",
   "metadata": {},
   "outputs": [
    {
     "name": "stderr",
     "output_type": "stream",
     "text": [
      "[Stage 100:==================================>                   (63 + 2) / 100]\r"
     ]
    },
    {
     "name": "stdout",
     "output_type": "stream",
     "text": [
      "+---+\n",
      "|cnt|\n",
      "+---+\n",
      "|100|\n",
      "+---+\n",
      "\n"
     ]
    },
    {
     "name": "stderr",
     "output_type": "stream",
     "text": [
      "                                                                                \r"
     ]
    }
   ],
   "source": [
    "# 查看数据量\n",
    "result = spark.sql(\"SELECT COUNT(*) as cnt FROM time_series\")\n",
    "result.show()"
   ]
  },
  {
   "cell_type": "code",
   "execution_count": 6,
   "id": "f0a311b7-37b5-4385-8f02-057c921dbd71",
   "metadata": {},
   "outputs": [
    {
     "name": "stderr",
     "output_type": "stream",
     "text": [
      "[Stage 103:=================================================>    (91 + 2) / 100]\r"
     ]
    },
    {
     "name": "stdout",
     "output_type": "stream",
     "text": [
      "+-----------+-------------------+---------+---------+----+\n",
      "|         id|               time|      lon|      lat|area|\n",
      "+-----------+-------------------+---------+---------+----+\n",
      "|11842012002|2024-02-06 12:33:44|135.57184|45.837658|   2|\n",
      "+-----------+-------------------+---------+---------+----+\n",
      "\n"
     ]
    },
    {
     "name": "stderr",
     "output_type": "stream",
     "text": [
      "                                                                                \r"
     ]
    }
   ],
   "source": [
    "# 查看一条数据\n",
    "result = spark.sql(\"SELECT * FROM time_series LIMIT 1\")\n",
    "result.show()"
   ]
  },
  {
   "cell_type": "code",
   "execution_count": 7,
   "id": "71999b06-187e-4add-9667-d1edacc4a06e",
   "metadata": {},
   "outputs": [
    {
     "name": "stdout",
     "output_type": "stream",
     "text": [
      "+---------+\n",
      "|partition|\n",
      "+---------+\n",
      "|   area=0|\n",
      "|   area=1|\n",
      "|  area=10|\n",
      "|   area=2|\n",
      "|   area=3|\n",
      "|   area=4|\n",
      "|   area=5|\n",
      "|   area=6|\n",
      "|   area=7|\n",
      "|   area=8|\n",
      "|   area=9|\n",
      "+---------+\n",
      "\n"
     ]
    }
   ],
   "source": [
    "# 查看分区数目\n",
    "result = spark.sql(\"SHOW PARTITIONS time_series;\")\n",
    "result.show()"
   ]
  },
  {
   "cell_type": "code",
   "execution_count": 9,
   "id": "a1501114-06a6-4938-bccc-d09b6a34fac4",
   "metadata": {},
   "outputs": [
    {
     "name": "stdout",
     "output_type": "stream",
     "text": [
      "+--------------------+\n",
      "|           version()|\n",
      "+--------------------+\n",
      "|3.3.3 8c2b3319c67...|\n",
      "+--------------------+\n",
      "\n"
     ]
    }
   ],
   "source": [
    "result = spark.sql(\"SELECT version();\")\n",
    "result.show()"
   ]
  },
  {
   "cell_type": "code",
   "execution_count": null,
   "id": "5d4cee32-3475-4024-b93f-8eb2da733982",
   "metadata": {},
   "outputs": [],
   "source": []
  }
 ],
 "metadata": {
  "kernelspec": {
   "display_name": "Python 3 (ipykernel)",
   "language": "python",
   "name": "python3"
  },
  "language_info": {
   "codemirror_mode": {
    "name": "ipython",
    "version": 3
   },
   "file_extension": ".py",
   "mimetype": "text/x-python",
   "name": "python",
   "nbconvert_exporter": "python",
   "pygments_lexer": "ipython3",
   "version": "3.11.0rc1"
  }
 },
 "nbformat": 4,
 "nbformat_minor": 5
}
